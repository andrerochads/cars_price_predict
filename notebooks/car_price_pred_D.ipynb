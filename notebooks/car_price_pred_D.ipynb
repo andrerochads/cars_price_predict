{
 "cells": [
  {
   "cell_type": "markdown",
   "metadata": {},
   "source": [
    "# **CAR PRICE PREDICTION - Notebook D** "
   ]
  },
  {
   "cell_type": "markdown",
   "metadata": {},
   "source": [
    "**Tópicos neste notebook:**\n",
    "\n",
    "10 - Deploy do modelo"
   ]
  },
  {
   "cell_type": "markdown",
   "metadata": {},
   "source": [
    "# **10.0 Deploy Model to Production**"
   ]
  },
  {
   "cell_type": "markdown",
   "metadata": {},
   "source": [
    "## 10.1 Cars Price Pred Class"
   ]
  },
  {
   "cell_type": "code",
   "execution_count": 14,
   "metadata": {},
   "outputs": [],
   "source": [
    "import pickle\n",
    "import pandas as pd\n",
    "import numpy as np\n",
    "import math\n",
    "\n",
    "\n",
    "class CarsPricePred(object):\n",
    "    def __init__(self):\n",
    "        self.home_path='C:/Users/andre/repos/cursos_ds/9_car_price_prediction/' # Para teste local da API\n",
    "        self.ano_de_fabricacao_scaler = pickle.load(open(self.home_path + 'parameter/ano_de_fabricacao.pkl', 'rb'))\n",
    "        self.ano_modelo_scaler =        pickle.load(open(self.home_path + 'parameter/ano_modelo.pkl', 'rb'))\n",
    "        self.cilindradas_scaler =       pickle.load(open(self.home_path + 'parameter/cilindradas.pkl', 'rb'))\n",
    "        self.hodometro_scaler =         pickle.load(open(self.home_path + 'parameter/hodometro.pkl', 'rb'))\n",
    "        self.cambio_encoder =           pickle.load(open(self.home_path + 'parameter/cambio_tgt_encoder.pkl', 'rb'))\n",
    "        self.combustivel_encoder =      pickle.load(open(self.home_path + 'parameter/combustivel_tgt_encoder.pkl', 'rb'))\n",
    "        self.cor_encoder =              pickle.load(open(self.home_path + 'parameter/cor_tgt_encoder.pkl', 'rb'))\n",
    "        self.modelo_encoder =           pickle.load(open(self.home_path + 'parameter/modelo_tgt_encoder.pkl', 'rb'))\n",
    "        self.marca_encoder =            pickle.load(open(self.home_path + 'parameter/marca_tgt_encoder.pkl', 'rb'))\n",
    "        self.tipo_encoder =             pickle.load(open(self.home_path + 'parameter/tipo_tgt_encoder.pkl', 'rb'))\n",
    "\n",
    "    # -----------------------------------------------\n",
    "    # Observação!!!\n",
    "    # Nesse caso, não será necessário tratar os dados, pois as informações que serão enviadas do streamlit já estão tratadas\n",
    "    # def data_cleaning( self, df1 ):\n",
    "    #     return df1\n",
    "    # def feature_engineering( self, df2):\n",
    "    #     return df2\n",
    "    # -----------------------------------------------\n",
    "        \n",
    "\n",
    "    def data_preparation(self, df):\n",
    "\n",
    "        ## Rescaling and Encoding\n",
    "        self.ano_de_fabricacao_scaler.transform(df[['ano_de_fabricacao']].values)\n",
    "        self.ano_modelo_scaler.transform(df[['ano_modelo']].values)\n",
    "        self.cilindradas_scaler.transform(df[['cilindradas']].values)\n",
    "        self.hodometro_scaler.transform(df[['hodometro']].values)\n",
    "        self.cambio_encoder.transform(df[['cambio']])\n",
    "        self.combustivel_encoder.transform(df[['combustivel']])\n",
    "        self.cor_encoder.transform(df[['cor']])\n",
    "        self.modelo_encoder.transform(df[['modelo']])\n",
    "        self.marca_encoder.transform(df[['marca']])\n",
    "        self.tipo_encoder.transform(df[['tipo']])\n",
    "        df['blindado'] = df['blindado'].apply(lambda x: 1 if x == 'Sim' else 0)\n",
    "\n",
    "        return df    \n",
    "\n",
    "    def get_prediction(self, model, df_car, df_to_pred):\n",
    "\n",
    "        # prediction\n",
    "        price_pred = model.predict(df_to_pred)\n",
    "\n",
    "        # join pred into the original data\n",
    "        df_car['preco_sugerido'] = np.expm1(price_pred)\n",
    "\n",
    "        return df_car.to_json(orient='records')"
   ]
  },
  {
   "cell_type": "markdown",
   "metadata": {},
   "source": [
    "## 10.2 API Handler "
   ]
  },
  {
   "cell_type": "code",
   "execution_count": 4,
   "metadata": {},
   "outputs": [
    {
     "name": "stdout",
     "output_type": "stream",
     "text": [
      " * Serving Flask app '__main__'\n",
      " * Debug mode: off\n"
     ]
    },
    {
     "name": "stderr",
     "output_type": "stream",
     "text": [
      "WARNING: This is a development server. Do not use it in a production deployment. Use a production WSGI server instead.\n",
      " * Running on all addresses (0.0.0.0)\n",
      " * Running on http://127.0.0.1:5000\n",
      " * Running on http://192.168.1.8:5000\n",
      "Press CTRL+C to quit\n"
     ]
    }
   ],
   "source": [
    "import os\n",
    "import pickle\n",
    "import pandas as pd\n",
    "from flask import Flask, request, Response\n",
    "from api.cars_pred.CarsPricePred import CarsPricePred\n",
    "\n",
    "# Loading ML model\n",
    "model = pickle.load(open('C:/Users/andre/repos/cursos_ds/9_car_price_prediction/model/model_car_price_pred.pkl', 'rb'))\n",
    "\n",
    "# Initialize API\n",
    "app = Flask(__name__)\n",
    "@app.route('/api-cars-price-predict', methods=['POST'])\n",
    "\n",
    "def rossmann_predict():\n",
    "    car_json = request.get_json()\n",
    "\n",
    "    if car_json: # there is data\n",
    "        if isinstance(car_json, dict): # unique example\n",
    "            df_car = pd.DataFrame(car_json, index=[0])\n",
    "        else: # multiple example\n",
    "            df_car = pd.DataFrame(car_json, columns=car_json[0].keys())\n",
    "            #[0].keys() para usar como colunas as primeiras chaves no df \n",
    "\n",
    "        # Instantiate CarsPricePred class\n",
    "        pipeline = CarsPricePred()\n",
    "\n",
    "        # -----------------------------------------------\n",
    "        # Observação!!!\n",
    "        # Não necessário nesse caso.\n",
    "        # data cleaning\n",
    "        # df1 = pipeline.data_cleaning( df_car )\n",
    "        # feature engineering\n",
    "        # df2 = pipeline.feature_engineering( df1 )\n",
    "        # -----------------------------------------------\n",
    "\n",
    "        # data preparation\n",
    "        df_to_pred = pipeline.data_preparation(df_car)\n",
    "\n",
    "        # prediction\n",
    "        df_response = pipeline.get_prediction(model, df_car, df_to_pred)\n",
    "\n",
    "        return df_response\n",
    "\n",
    "    else:\n",
    "        return Response('{}', status=200, mimetype='application/json')\n",
    "\n",
    "if __name__ == '__main__':\n",
    "    app.run( '0.0.0.0' )"
   ]
  },
  {
   "cell_type": "markdown",
   "metadata": {},
   "source": [
    "## 10.3 Testing"
   ]
  },
  {
   "cell_type": "code",
   "execution_count": 15,
   "metadata": {},
   "outputs": [],
   "source": [
    "import json\n",
    "import requests\n",
    "\n",
    "df5 = pd.read_csv('datasets/cooked_datasets/df3_processed.csv', low_memory = False)"
   ]
  },
  {
   "cell_type": "code",
   "execution_count": 16,
   "metadata": {},
   "outputs": [
    {
     "name": "stdout",
     "output_type": "stream",
     "text": [
      "{\"marca\": \"FORD\", \"cor\": \"Branco\", \"combustivel\": \"DIESEL\", \"tipo\": \"Picape\", \"cilindradas\": 3.2, \"cidade_vendedor\": \"Itapiranga\", \"ano_de_fabricacao\": 2017, \"ano_modelo\": 2018, \"hodometro\": 51157.0, \"modelo\": \"RANGER\", \"cambio\": \"Automatica\", \"blindado\": \"Nao\"}\n"
     ]
    }
   ],
   "source": [
    "# Separando uma linha como amostra para teste\n",
    "features_selecionadas = ['marca', 'cor', 'combustivel', 'tipo', 'cilindradas', 'cidade_vendedor','ano_de_fabricacao', 'ano_modelo', 'hodometro', 'modelo', 'cambio', 'blindado']\n",
    "linha_selecionada = df5[features_selecionadas].iloc[0]\n",
    "\n",
    "# Converte a linha para um dicionário\n",
    "linha_dict = linha_selecionada.to_dict()\n",
    "linha_json = json.dumps(linha_dict)\n",
    "print(linha_json)"
   ]
  },
  {
   "cell_type": "code",
   "execution_count": 20,
   "metadata": {},
   "outputs": [
    {
     "name": "stdout",
     "output_type": "stream",
     "text": [
      "Status Code 200\n",
      "207212.046875\n"
     ]
    }
   ],
   "source": [
    "# API Call\n",
    "\n",
    "# Teste local\n",
    "url = 'http://127.0.0.1:5000/api-cars-price-predict'\n",
    "\n",
    "# Teste Web Service\n",
    "# url = 'https://api-cars-price-predict.onrender.com/api-cars-price-predict'\n",
    "\n",
    "header = {'Content-type': 'application/json' }\n",
    "data = linha_json\n",
    "\n",
    "r = requests.post(url, data=linha_json, headers=header)\n",
    "\n",
    "print(f'Status Code {r.status_code}')\n",
    "\n",
    "# Manter o response_json recebendo r.json()\n",
    "response_json = r.json()\n",
    "preco_sugerido = response_json[0].get('preco_sugerido')\n",
    "if preco_sugerido is not None:\n",
    "    print(preco_sugerido)\n",
    "else:\n",
    "    print(\"Chave 'preco_sugerido' não encontrada no JSON.\")"
   ]
  }
 ],
 "metadata": {
  "kernelspec": {
   "display_name": "lighthouse_projeto",
   "language": "python",
   "name": "python3"
  },
  "language_info": {
   "codemirror_mode": {
    "name": "ipython",
    "version": 3
   },
   "file_extension": ".py",
   "mimetype": "text/x-python",
   "name": "python",
   "nbconvert_exporter": "python",
   "pygments_lexer": "ipython3",
   "version": "3.10.13"
  },
  "orig_nbformat": 4
 },
 "nbformat": 4,
 "nbformat_minor": 2
}
